{
 "cells": [
  {
   "cell_type": "code",
   "execution_count": null,
   "id": "d2c4d8a5-ca41-4505-b0b1-bae1e550d48a",
   "metadata": {},
   "outputs": [],
   "source": []
  }
 ],
 "metadata": {
  "kernelspec": {
   "display_name": "",
   "name": ""
  },
  "language_info": {
   "name": ""
  }
 },
 "nbformat": 4,
 "nbformat_minor": 5
}
